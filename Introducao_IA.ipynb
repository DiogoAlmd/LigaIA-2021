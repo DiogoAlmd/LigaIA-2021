{
  "nbformat": 4,
  "nbformat_minor": 0,
  "metadata": {
    "colab": {
      "name": "Untitled19.ipynb",
      "provenance": []
    },
    "kernelspec": {
      "name": "python3",
      "display_name": "Python 3"
    },
    "language_info": {
      "name": "python"
    }
  },
  "cells": [
    {
      "cell_type": "code",
      "metadata": {
        "id": "TtUrCndngXiQ"
      },
      "source": [
        "import pandas as pd\n",
        "\n",
        "titanic = pd.read_csv('titanic.data')"
      ],
      "execution_count": 1,
      "outputs": []
    },
    {
      "cell_type": "code",
      "metadata": {
        "colab": {
          "base_uri": "https://localhost:8080/"
        },
        "id": "bvb5igSZgjhG",
        "outputId": "d43b53e1-879a-40dc-e904-0a6bce81fc03"
      },
      "source": [
        "titanic.shape"
      ],
      "execution_count": 2,
      "outputs": [
        {
          "output_type": "execute_result",
          "data": {
            "text/plain": [
              "(891, 12)"
            ]
          },
          "metadata": {
            "tags": []
          },
          "execution_count": 2
        }
      ]
    },
    {
      "cell_type": "code",
      "metadata": {
        "id": "DocxRy1ignLV"
      },
      "source": [
        "titanic['previsao'] = 1"
      ],
      "execution_count": 11,
      "outputs": []
    },
    {
      "cell_type": "code",
      "metadata": {
        "colab": {
          "base_uri": "https://localhost:8080/"
        },
        "id": "kYfEHcHCg8U9",
        "outputId": "b4f42050-b8a0-42d6-b767-02d6c68b4205"
      },
      "source": [
        "titanic.shape"
      ],
      "execution_count": 5,
      "outputs": [
        {
          "output_type": "execute_result",
          "data": {
            "text/plain": [
              "(891, 13)"
            ]
          },
          "metadata": {
            "tags": []
          },
          "execution_count": 5
        }
      ]
    },
    {
      "cell_type": "code",
      "metadata": {
        "id": "d8zUqHmkhFzN"
      },
      "source": [
        "def acuracia(titanic):\n",
        "  return (titanic['Survived'] == titanic['previsao']).sum() / len(titanic) * 100"
      ],
      "execution_count": 13,
      "outputs": []
    },
    {
      "cell_type": "code",
      "metadata": {
        "colab": {
          "base_uri": "https://localhost:8080/"
        },
        "id": "KK-wbGXriD8-",
        "outputId": "f0084246-2c80-4909-f1b1-f6339f6dc32d"
      },
      "source": [
        "titanic['previsao'] = 0\n",
        "\n",
        "print(acuracia(titanic))\n",
        "\n",
        "titanic['previsao'][titanic['Sex'] == 'female'] = 1\n",
        "\n",
        "print(acuracia(titanic))\n",
        "\n",
        "#titanic['previsao'][titanic['Pclass'] == 1] = 1\n",
        "\n",
        "#print(acuracia(titanic))\n",
        "\n",
        "titanic['previsao'][(titanic['Pclass'] == 1) & (titanic['Age'] > 45) | ((titanic['Age'] < 15))] = 1\n",
        "\n",
        "print(acuracia(titanic))"
      ],
      "execution_count": 23,
      "outputs": [
        {
          "output_type": "stream",
          "text": [
            "61.61616161616161\n",
            "78.67564534231201\n",
            "76.76767676767676\n"
          ],
          "name": "stdout"
        },
        {
          "output_type": "stream",
          "text": [
            "/usr/local/lib/python3.7/dist-packages/ipykernel_launcher.py:5: SettingWithCopyWarning: \n",
            "A value is trying to be set on a copy of a slice from a DataFrame\n",
            "\n",
            "See the caveats in the documentation: https://pandas.pydata.org/pandas-docs/stable/user_guide/indexing.html#returning-a-view-versus-a-copy\n",
            "  \"\"\"\n",
            "/usr/local/lib/python3.7/dist-packages/ipykernel_launcher.py:13: SettingWithCopyWarning: \n",
            "A value is trying to be set on a copy of a slice from a DataFrame\n",
            "\n",
            "See the caveats in the documentation: https://pandas.pydata.org/pandas-docs/stable/user_guide/indexing.html#returning-a-view-versus-a-copy\n",
            "  del sys.path[0]\n"
          ],
          "name": "stderr"
        }
      ]
    },
    {
      "cell_type": "markdown",
      "metadata": {
        "id": "utUp7bnlmC29"
      },
      "source": [
        "#### Aprendizado automático (Machine learning)"
      ]
    },
    {
      "cell_type": "code",
      "metadata": {
        "colab": {
          "base_uri": "https://localhost:8080/"
        },
        "id": "H0X2Y3T1syOd",
        "outputId": "0ae86e14-78b5-4d73-c262-0eff39e71e48"
      },
      "source": [
        "titanic.isna().sum()"
      ],
      "execution_count": 29,
      "outputs": [
        {
          "output_type": "execute_result",
          "data": {
            "text/plain": [
              "PassengerId      0\n",
              "Survived         0\n",
              "Pclass           0\n",
              "Name             0\n",
              "Sex              0\n",
              "Age              0\n",
              "SibSp            0\n",
              "Parch            0\n",
              "Ticket           0\n",
              "Fare             0\n",
              "Cabin          687\n",
              "Embarked         2\n",
              "previsao         0\n",
              "dtype: int64"
            ]
          },
          "metadata": {
            "tags": []
          },
          "execution_count": 29
        }
      ]
    },
    {
      "cell_type": "code",
      "metadata": {
        "colab": {
          "base_uri": "https://localhost:8080/"
        },
        "id": "QNq6epxxmHTM",
        "outputId": "4a979aff-236f-4e2c-ee13-6515c98cc74a"
      },
      "source": [
        "from sklearn.neighbors import KNeighborsClassifier\n",
        "\n",
        "knn = KNeighborsClassifier()  # F -> função ou modelo\n",
        "\n",
        "titanic['Sex'][titanic['Sex'] == 'male'] = 0\n",
        "titanic['Sex'][titanic['Sex'] == 'female'] = 1\n",
        "titanic['Sex'] = pd.to_numeric(titanic['Sex'])\n",
        "\n",
        "titanic.fillna({'Age':titanic.Age.mean()}, inplace=True)\n",
        "\n",
        "# treinamento : X -> dados e y -> rótulos\n",
        "knn.fit(titanic[['Sex','Age','Pclass']], titanic['Survived'])\n"
      ],
      "execution_count": 28,
      "outputs": [
        {
          "output_type": "stream",
          "text": [
            "/usr/local/lib/python3.7/dist-packages/ipykernel_launcher.py:5: SettingWithCopyWarning: \n",
            "A value is trying to be set on a copy of a slice from a DataFrame\n",
            "\n",
            "See the caveats in the documentation: https://pandas.pydata.org/pandas-docs/stable/user_guide/indexing.html#returning-a-view-versus-a-copy\n",
            "  \"\"\"\n",
            "/usr/local/lib/python3.7/dist-packages/ipykernel_launcher.py:6: SettingWithCopyWarning: \n",
            "A value is trying to be set on a copy of a slice from a DataFrame\n",
            "\n",
            "See the caveats in the documentation: https://pandas.pydata.org/pandas-docs/stable/user_guide/indexing.html#returning-a-view-versus-a-copy\n",
            "  \n"
          ],
          "name": "stderr"
        },
        {
          "output_type": "execute_result",
          "data": {
            "text/plain": [
              "KNeighborsClassifier(algorithm='auto', leaf_size=30, metric='minkowski',\n",
              "                     metric_params=None, n_jobs=None, n_neighbors=5, p=2,\n",
              "                     weights='uniform')"
            ]
          },
          "metadata": {
            "tags": []
          },
          "execution_count": 28
        }
      ]
    },
    {
      "cell_type": "code",
      "metadata": {
        "id": "_wODEv1btlC1"
      },
      "source": [
        "y_pred = knn.predict(titanic[['Sex','Age','Pclass']])"
      ],
      "execution_count": 36,
      "outputs": []
    },
    {
      "cell_type": "code",
      "metadata": {
        "colab": {
          "base_uri": "https://localhost:8080/"
        },
        "id": "A0FAsuUVuw5M",
        "outputId": "4dbe2dcc-46ca-419e-d2db-3c3332d737cf"
      },
      "source": [
        "# acuracia (de novo)\n",
        "\n",
        "(y_pred == titanic.Survived).sum() / len(y_pred) * 100"
      ],
      "execution_count": 37,
      "outputs": [
        {
          "output_type": "execute_result",
          "data": {
            "text/plain": [
              "81.70594837261504"
            ]
          },
          "metadata": {
            "tags": []
          },
          "execution_count": 37
        }
      ]
    },
    {
      "cell_type": "code",
      "metadata": {
        "colab": {
          "base_uri": "https://localhost:8080/"
        },
        "id": "Wa8Fkl-UvEwE",
        "outputId": "9b254465-7b79-47e5-f5b0-4eadd885c51d"
      },
      "source": [
        "# separação de treino e teste (hold-out)\n",
        "\n",
        "from sklearn.model_selection import train_test_split\n",
        "\n",
        "X = titanic[['Sex','Age','Pclass']]\n",
        "y = titanic.Survived\n",
        "\n",
        "# 30% teste, então sobra 70% treino\n",
        "X_train, X_test, y_train, y_test = train_test_split(X, y, test_size=0.3, \n",
        "                                                    random_state=2021)\n",
        "\n",
        "melhor_modelo = None\n",
        "melhor_acc = None\n",
        "\n",
        "# hiper parametrização (grid search)\n",
        "\n",
        "for k in range(1,41):\n",
        "\n",
        "  knn = KNeighborsClassifier(n_neighbors = k)\n",
        "\n",
        "  # treinamento\n",
        "  knn.fit(X_train, y_train)\n",
        "\n",
        "  # teste\n",
        "  y_pred = knn.predict(X_test)\n",
        "\n",
        "  # acurácia\n",
        "  acc = (y_pred == y_test).sum() / len(y_pred) * 100\n",
        "  print('K:', k, \"-\", acc)\n",
        "\n",
        "  if melhor_acc is None or melhor_acc < acc:\n",
        "      melhor_modelo = knn\n",
        "      melhor_acc = acc\n",
        "\n",
        "\n",
        "print('Melhor modelo:', melhor_modelo)\n",
        "print('Melhor acurácia obtida:', melhor_acc)\n"
      ],
      "execution_count": 49,
      "outputs": [
        {
          "output_type": "stream",
          "text": [
            "K: 1 - 70.8955223880597\n",
            "K: 2 - 72.01492537313433\n",
            "K: 3 - 71.64179104477611\n",
            "K: 4 - 72.76119402985076\n",
            "K: 5 - 72.01492537313433\n",
            "K: 6 - 73.13432835820896\n",
            "K: 7 - 71.26865671641791\n",
            "K: 8 - 73.13432835820896\n",
            "K: 9 - 73.88059701492537\n",
            "K: 10 - 73.50746268656717\n",
            "K: 11 - 72.76119402985076\n",
            "K: 12 - 72.76119402985076\n",
            "K: 13 - 73.88059701492537\n",
            "K: 14 - 72.38805970149254\n",
            "K: 15 - 71.26865671641791\n",
            "K: 16 - 70.8955223880597\n",
            "K: 17 - 72.38805970149254\n",
            "K: 18 - 69.77611940298507\n",
            "K: 19 - 73.50746268656717\n",
            "K: 20 - 73.50746268656717\n",
            "K: 21 - 72.76119402985076\n",
            "K: 22 - 73.13432835820896\n",
            "K: 23 - 72.76119402985076\n",
            "K: 24 - 72.01492537313433\n",
            "K: 25 - 73.13432835820896\n",
            "K: 26 - 72.38805970149254\n",
            "K: 27 - 72.76119402985076\n",
            "K: 28 - 72.38805970149254\n",
            "K: 29 - 72.76119402985076\n",
            "K: 30 - 72.01492537313433\n",
            "K: 31 - 72.76119402985076\n",
            "K: 32 - 72.38805970149254\n",
            "K: 33 - 72.01492537313433\n",
            "K: 34 - 69.40298507462687\n",
            "K: 35 - 69.77611940298507\n",
            "K: 36 - 67.16417910447761\n",
            "K: 37 - 68.65671641791045\n",
            "K: 38 - 67.53731343283582\n",
            "K: 39 - 66.4179104477612\n",
            "K: 40 - 66.04477611940298\n",
            "Melhor modelo: KNeighborsClassifier(algorithm='auto', leaf_size=30, metric='minkowski',\n",
            "                     metric_params=None, n_jobs=None, n_neighbors=9, p=2,\n",
            "                     weights='uniform')\n",
            "Melhor acurácia obtida: 73.88059701492537\n"
          ],
          "name": "stdout"
        }
      ]
    },
    {
      "cell_type": "code",
      "metadata": {
        "colab": {
          "base_uri": "https://localhost:8080/",
          "height": 404
        },
        "id": "nn0AS_v-0-4E",
        "outputId": "1306bf1f-0719-44cd-8d91-3e300026dd74"
      },
      "source": [
        "# decision boundary\n",
        "\n",
        "import numpy as np\n",
        "import matplotlib.pyplot as plt\n",
        "import seaborn as sns\n",
        "from matplotlib.colors import ListedColormap\n",
        "from sklearn import neighbors, datasets\n",
        "\n",
        "n_neighbors = 1\n",
        "\n",
        "X = titanic[['Age','Pclass']].values\n",
        "y = titanic.Survived\n",
        "\n",
        "X_train, X_test, y_train, y_test = train_test_split(X, y, test_size=0.3, \n",
        "                                                    random_state=2021)\n",
        "\n",
        "h = .2  # step size in the mesh\n",
        "\n",
        "# Create color maps\n",
        "cmap_light = ListedColormap(['orange', 'cyan'])\n",
        "cmap_bold = ['darkorange', 'darkblue']\n",
        "\n",
        "clf = neighbors.KNeighborsClassifier(n_neighbors)\n",
        "clf.fit(X_train, y_train)\n",
        "\n",
        "# Plot the decision boundary. For that, we will assign a color to each\n",
        "# point in the mesh [x_min, x_max]x[y_min, y_max].\n",
        "x_min, x_max = X[:, 0].min() - 1, X[:, 0].max() + 1\n",
        "y_min, y_max = X[:, 1].min() - 1, X[:, 1].max() + 1\n",
        "xx, yy = np.meshgrid(np.arange(x_min, x_max, h),\n",
        "                      np.arange(y_min, y_max, h))\n",
        "Z = clf.predict(np.c_[xx.ravel(), yy.ravel()])\n",
        "\n",
        "# Put the result into a color plot\n",
        "Z = Z.reshape(xx.shape)\n",
        "plt.figure(figsize=(8, 6))\n",
        "plt.contourf(xx, yy, Z, cmap=cmap_light)\n",
        "\n",
        "# Plot also the training points\n",
        "sns.scatterplot(x=X_train[:, 0], y=X_train[:, 1], hue=y_train,\n",
        "                palette=cmap_bold, alpha=1.0, edgecolor=\"black\")\n",
        "plt.xlim(xx.min(), xx.max())\n",
        "plt.ylim(yy.min(), yy.max())\n",
        "plt.title(\"2-Class classification (k = %i)\"\n",
        "          % (n_neighbors))\n",
        "plt.xlabel(\"Age\")\n",
        "plt.ylabel(\"PClass\")\n",
        "\n",
        "plt.show()"
      ],
      "execution_count": 56,
      "outputs": [
        {
          "output_type": "display_data",
          "data": {
            "image/png": "[encoded data removed]",
            "text/plain": [
              "<Figure size 576x432 with 1 Axes>"
            ]
          },
          "metadata": {
            "tags": [],
            "needs_background": "light"
          }
        }
      ]
    }
  ]
}