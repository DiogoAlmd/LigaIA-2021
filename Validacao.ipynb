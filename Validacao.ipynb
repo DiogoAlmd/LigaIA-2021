{
  "nbformat": 4,
  "nbformat_minor": 0,
  "metadata": {
    "colab": {
      "name": "Liga IA - Validação de modelo",
      "provenance": []
    },
    "kernelspec": {
      "name": "python3",
      "display_name": "Python 3"
    },
    "language_info": {
      "name": "python"
    }
  },
  "cells": [
    {
      "cell_type": "code",
      "metadata": {
        "id": "RiaOb3wfZqOF"
      },
      "source": [
        "import pandas as pd\n",
        "\n",
        "seeds = pd.read_csv('seeds_dataset.txt', sep=',')"
      ],
      "execution_count": 5,
      "outputs": []
    },
    {
      "cell_type": "code",
      "metadata": {
        "colab": {
          "base_uri": "https://localhost:8080/",
          "height": 197
        },
        "id": "JkJSKC9iaDi5",
        "outputId": "d324683f-6bf3-4d92-c7e0-94e0e5abd526"
      },
      "source": [
        "seeds.head()"
      ],
      "execution_count": 7,
      "outputs": [
        {
          "output_type": "execute_result",
          "data": {
            "text/html": [
              "<div>\n",
              "<style scoped>\n",
              "    .dataframe tbody tr th:only-of-type {\n",
              "        vertical-align: middle;\n",
              "    }\n",
              "\n",
              "    .dataframe tbody tr th {\n",
              "        vertical-align: top;\n",
              "    }\n",
              "\n",
              "    .dataframe thead th {\n",
              "        text-align: right;\n",
              "    }\n",
              "</style>\n",
              "<table border=\"1\" class=\"dataframe\">\n",
              "  <thead>\n",
              "    <tr style=\"text-align: right;\">\n",
              "      <th></th>\n",
              "      <th>V1</th>\n",
              "      <th>V2</th>\n",
              "      <th>V3</th>\n",
              "      <th>V4</th>\n",
              "      <th>V5</th>\n",
              "      <th>V6</th>\n",
              "      <th>V7</th>\n",
              "      <th>V8</th>\n",
              "    </tr>\n",
              "  </thead>\n",
              "  <tbody>\n",
              "    <tr>\n",
              "      <th>0</th>\n",
              "      <td>15.26</td>\n",
              "      <td>14.84</td>\n",
              "      <td>0.8710</td>\n",
              "      <td>5.763</td>\n",
              "      <td>3.312</td>\n",
              "      <td>2.221</td>\n",
              "      <td>5.220</td>\n",
              "      <td>1</td>\n",
              "    </tr>\n",
              "    <tr>\n",
              "      <th>1</th>\n",
              "      <td>14.88</td>\n",
              "      <td>14.57</td>\n",
              "      <td>0.8811</td>\n",
              "      <td>5.554</td>\n",
              "      <td>3.333</td>\n",
              "      <td>1.018</td>\n",
              "      <td>4.956</td>\n",
              "      <td>1</td>\n",
              "    </tr>\n",
              "    <tr>\n",
              "      <th>2</th>\n",
              "      <td>14.29</td>\n",
              "      <td>14.09</td>\n",
              "      <td>0.9050</td>\n",
              "      <td>5.291</td>\n",
              "      <td>3.337</td>\n",
              "      <td>2.699</td>\n",
              "      <td>4.825</td>\n",
              "      <td>1</td>\n",
              "    </tr>\n",
              "    <tr>\n",
              "      <th>3</th>\n",
              "      <td>13.84</td>\n",
              "      <td>13.94</td>\n",
              "      <td>0.8955</td>\n",
              "      <td>5.324</td>\n",
              "      <td>3.379</td>\n",
              "      <td>2.259</td>\n",
              "      <td>4.805</td>\n",
              "      <td>1</td>\n",
              "    </tr>\n",
              "    <tr>\n",
              "      <th>4</th>\n",
              "      <td>16.14</td>\n",
              "      <td>14.99</td>\n",
              "      <td>0.9034</td>\n",
              "      <td>5.658</td>\n",
              "      <td>3.562</td>\n",
              "      <td>1.355</td>\n",
              "      <td>5.175</td>\n",
              "      <td>1</td>\n",
              "    </tr>\n",
              "  </tbody>\n",
              "</table>\n",
              "</div>"
            ],
            "text/plain": [
              "      V1     V2      V3     V4     V5     V6     V7  V8\n",
              "0  15.26  14.84  0.8710  5.763  3.312  2.221  5.220   1\n",
              "1  14.88  14.57  0.8811  5.554  3.333  1.018  4.956   1\n",
              "2  14.29  14.09  0.9050  5.291  3.337  2.699  4.825   1\n",
              "3  13.84  13.94  0.8955  5.324  3.379  2.259  4.805   1\n",
              "4  16.14  14.99  0.9034  5.658  3.562  1.355  5.175   1"
            ]
          },
          "metadata": {
            "tags": []
          },
          "execution_count": 7
        }
      ]
    },
    {
      "cell_type": "code",
      "metadata": {
        "id": "I3N2fDzKbPVD"
      },
      "source": [
        "from sklearn.model_selection import train_test_split\n",
        "\n",
        "X = seeds.drop(columns=['V8'])\n",
        "y = seeds['V8']\n",
        "\n",
        "X_train, X_test, y_train, y_test = train_test_split(X,y,random_state=0)"
      ],
      "execution_count": 32,
      "outputs": []
    },
    {
      "cell_type": "code",
      "metadata": {
        "colab": {
          "base_uri": "https://localhost:8080/"
        },
        "id": "fetXEL9bbvoT",
        "outputId": "e8301687-8229-4c28-d970-53b990d8e4da"
      },
      "source": [
        "print(X_train.shape)\n",
        "print(X_test.shape)\n",
        "print(y_train.shape)\n",
        "print(y_test.shape)"
      ],
      "execution_count": 16,
      "outputs": [
        {
          "output_type": "stream",
          "text": [
            "(157, 7)\n",
            "(53, 7)\n",
            "(157,)\n",
            "(53,)\n"
          ],
          "name": "stdout"
        }
      ]
    },
    {
      "cell_type": "code",
      "metadata": {
        "id": "Lnr4ME1cb9U6"
      },
      "source": [
        "from sklearn.neighbors import KNeighborsClassifier\n",
        "\n",
        "model = KNeighborsClassifier()\n",
        "model.fit(X_train, y_train)\n",
        "\n",
        "y_pred = model.predict(X_test)"
      ],
      "execution_count": 17,
      "outputs": []
    },
    {
      "cell_type": "code",
      "metadata": {
        "colab": {
          "base_uri": "https://localhost:8080/"
        },
        "id": "b3Rm9huXcZR7",
        "outputId": "898973d1-c4af-4559-bcff-a114241475f4"
      },
      "source": [
        "from sklearn.metrics import accuracy_score\n",
        "\n",
        "accuracy_score(y_test, y_pred)"
      ],
      "execution_count": 21,
      "outputs": [
        {
          "output_type": "execute_result",
          "data": {
            "text/plain": [
              "0.2075471698113207"
            ]
          },
          "metadata": {
            "tags": []
          },
          "execution_count": 21
        }
      ]
    },
    {
      "cell_type": "code",
      "metadata": {
        "colab": {
          "base_uri": "https://localhost:8080/"
        },
        "id": "NtFzihvJcqua",
        "outputId": "57870a18-6b47-49e8-8576-727f42d94af5"
      },
      "source": [
        "y_test[:10]"
      ],
      "execution_count": 19,
      "outputs": [
        {
          "output_type": "execute_result",
          "data": {
            "text/plain": [
              "15     1\n",
              "141    3\n",
              "135    2\n",
              "165    3\n",
              "69     1\n",
              "153    3\n",
              "45     1\n",
              "64     1\n",
              "50     1\n",
              "122    2\n",
              "Name: V8, dtype: int64"
            ]
          },
          "metadata": {
            "tags": []
          },
          "execution_count": 19
        }
      ]
    },
    {
      "cell_type": "code",
      "metadata": {
        "colab": {
          "base_uri": "https://localhost:8080/"
        },
        "id": "jve1pXVldKjb",
        "outputId": "47cbcb40-5328-4e26-c726-2f374d0168ef"
      },
      "source": [
        "y_pred[:10]"
      ],
      "execution_count": 20,
      "outputs": [
        {
          "output_type": "execute_result",
          "data": {
            "text/plain": [
              "array([1, 3, 1, 3, 3, 3, 1, 1, 1, 2])"
            ]
          },
          "metadata": {
            "tags": []
          },
          "execution_count": 20
        }
      ]
    },
    {
      "cell_type": "code",
      "metadata": {
        "colab": {
          "base_uri": "https://localhost:8080/"
        },
        "id": "i7ZfhDNIeJI7",
        "outputId": "e79cf62c-4c83-42c5-e308-f6a0df923e90"
      },
      "source": [
        "from sklearn.metrics import confusion_matrix\n",
        "\n",
        "confusion_matrix(y_test, y_pred)"
      ],
      "execution_count": 22,
      "outputs": [
        {
          "output_type": "execute_result",
          "data": {
            "text/plain": [
              "array([[14,  1,  5],\n",
              "       [ 4, 14,  0],\n",
              "       [ 1,  0, 14]])"
            ]
          },
          "metadata": {
            "tags": []
          },
          "execution_count": 22
        }
      ]
    },
    {
      "cell_type": "code",
      "metadata": {
        "colab": {
          "base_uri": "https://localhost:8080/"
        },
        "id": "2UXFTwngf-TL",
        "outputId": "1298daa6-dc14-4832-c9a7-1fab73ee8b4f"
      },
      "source": [
        "from sklearn.metrics import classification_report\n",
        "\n",
        "print(classification_report(y_test, y_pred))"
      ],
      "execution_count": 23,
      "outputs": [
        {
          "output_type": "stream",
          "text": [
            "              precision    recall  f1-score   support\n",
            "\n",
            "           1       0.74      0.70      0.72        20\n",
            "           2       0.93      0.78      0.85        18\n",
            "           3       0.74      0.93      0.82        15\n",
            "\n",
            "    accuracy                           0.79        53\n",
            "   macro avg       0.80      0.80      0.80        53\n",
            "weighted avg       0.80      0.79      0.79        53\n",
            "\n"
          ],
          "name": "stdout"
        }
      ]
    },
    {
      "cell_type": "code",
      "metadata": {
        "colab": {
          "base_uri": "https://localhost:8080/"
        },
        "id": "6jDFbwM4njny",
        "outputId": "5855f21a-7e90-424b-8fd0-335753fbf09c"
      },
      "source": [
        "import numpy as np\n",
        "\n",
        "acuracias = []\n",
        "\n",
        "for k in range(1,100):\n",
        "\n",
        "    model = KNeighborsClassifier(n_neighbors = k)\n",
        "    model.fit(X_train, y_train)\n",
        "\n",
        "    y_pred = model.predict(X_test)\n",
        "\n",
        "    acuracias.append(accuracy_score(y_test, y_pred))\n",
        "\n",
        "print(np.argsort(acuracias))"
      ],
      "execution_count": 33,
      "outputs": [
        {
          "output_type": "stream",
          "text": [
            "[85 81 83 84 69 68 67 66 65 64 63 62 49 61 60 59 58 57 56 55 54 53 52 51\n",
            " 70 71 73 50 96 95 94 93 92 91 90 89 88 87 86 82 80 79 78 77 76 75 74 72\n",
            " 97 98 46 48 44 47 25 26 27 28 29 30 31 33 34 32 36 45 35 42 41 43 39 38\n",
            " 37 40  4 13  8  9 10 11 12 14 23 16 17 18 19 20 21 22 24 15  7  6  5  2\n",
            "  1  0  3]\n"
          ],
          "name": "stdout"
        }
      ]
    },
    {
      "cell_type": "code",
      "metadata": {
        "colab": {
          "base_uri": "https://localhost:8080/"
        },
        "id": "bc_m1ceqpHVM",
        "outputId": "b9f70817-6f3c-4d66-d661-447f2ec051ed"
      },
      "source": [
        "acuracias"
      ],
      "execution_count": 34,
      "outputs": [
        {
          "output_type": "execute_result",
          "data": {
            "text/plain": [
              "[0.8867924528301887,\n",
              " 0.8867924528301887,\n",
              " 0.8867924528301887,\n",
              " 0.9056603773584906,\n",
              " 0.8679245283018868,\n",
              " 0.8867924528301887,\n",
              " 0.8867924528301887,\n",
              " 0.8867924528301887,\n",
              " 0.8679245283018868,\n",
              " 0.8679245283018868,\n",
              " 0.8679245283018868,\n",
              " 0.8679245283018868,\n",
              " 0.8679245283018868,\n",
              " 0.8679245283018868,\n",
              " 0.8679245283018868,\n",
              " 0.8679245283018868,\n",
              " 0.8679245283018868,\n",
              " 0.8679245283018868,\n",
              " 0.8679245283018868,\n",
              " 0.8679245283018868,\n",
              " 0.8679245283018868,\n",
              " 0.8679245283018868,\n",
              " 0.8679245283018868,\n",
              " 0.8679245283018868,\n",
              " 0.8679245283018868,\n",
              " 0.8490566037735849,\n",
              " 0.8490566037735849,\n",
              " 0.8490566037735849,\n",
              " 0.8490566037735849,\n",
              " 0.8490566037735849,\n",
              " 0.8490566037735849,\n",
              " 0.8490566037735849,\n",
              " 0.8490566037735849,\n",
              " 0.8490566037735849,\n",
              " 0.8490566037735849,\n",
              " 0.8490566037735849,\n",
              " 0.8490566037735849,\n",
              " 0.8490566037735849,\n",
              " 0.8490566037735849,\n",
              " 0.8490566037735849,\n",
              " 0.8490566037735849,\n",
              " 0.8490566037735849,\n",
              " 0.8490566037735849,\n",
              " 0.8490566037735849,\n",
              " 0.8301886792452831,\n",
              " 0.8490566037735849,\n",
              " 0.8301886792452831,\n",
              " 0.8490566037735849,\n",
              " 0.8301886792452831,\n",
              " 0.8301886792452831,\n",
              " 0.8301886792452831,\n",
              " 0.8301886792452831,\n",
              " 0.8301886792452831,\n",
              " 0.8301886792452831,\n",
              " 0.8301886792452831,\n",
              " 0.8301886792452831,\n",
              " 0.8301886792452831,\n",
              " 0.8301886792452831,\n",
              " 0.8301886792452831,\n",
              " 0.8301886792452831,\n",
              " 0.8301886792452831,\n",
              " 0.8301886792452831,\n",
              " 0.8301886792452831,\n",
              " 0.8301886792452831,\n",
              " 0.8301886792452831,\n",
              " 0.8301886792452831,\n",
              " 0.8301886792452831,\n",
              " 0.8301886792452831,\n",
              " 0.8301886792452831,\n",
              " 0.8301886792452831,\n",
              " 0.8301886792452831,\n",
              " 0.8301886792452831,\n",
              " 0.8301886792452831,\n",
              " 0.8301886792452831,\n",
              " 0.8301886792452831,\n",
              " 0.8301886792452831,\n",
              " 0.8301886792452831,\n",
              " 0.8301886792452831,\n",
              " 0.8301886792452831,\n",
              " 0.8301886792452831,\n",
              " 0.8301886792452831,\n",
              " 0.8113207547169812,\n",
              " 0.8301886792452831,\n",
              " 0.8113207547169812,\n",
              " 0.8113207547169812,\n",
              " 0.8113207547169812,\n",
              " 0.8301886792452831,\n",
              " 0.8301886792452831,\n",
              " 0.8301886792452831,\n",
              " 0.8301886792452831,\n",
              " 0.8301886792452831,\n",
              " 0.8301886792452831,\n",
              " 0.8301886792452831,\n",
              " 0.8301886792452831,\n",
              " 0.8301886792452831,\n",
              " 0.8301886792452831,\n",
              " 0.8301886792452831,\n",
              " 0.8301886792452831,\n",
              " 0.8301886792452831]"
            ]
          },
          "metadata": {
            "tags": []
          },
          "execution_count": 34
        }
      ]
    },
    {
      "cell_type": "code",
      "metadata": {
        "colab": {
          "base_uri": "https://localhost:8080/"
        },
        "id": "dcyFUsbroCUi",
        "outputId": "750c2ec2-7cf2-49b1-c3f9-21adbb7555f1"
      },
      "source": [
        "model = KNeighborsClassifier(n_neighbors = 4)\n",
        "model.fit(X_train, y_train)\n",
        "y_pred = model.predict(X_test)\n",
        "print(classification_report(y_test, y_pred))"
      ],
      "execution_count": 35,
      "outputs": [
        {
          "output_type": "stream",
          "text": [
            "              precision    recall  f1-score   support\n",
            "\n",
            "           1       0.80      0.94      0.86        17\n",
            "           2       1.00      0.81      0.89        21\n",
            "           3       0.94      1.00      0.97        15\n",
            "\n",
            "    accuracy                           0.91        53\n",
            "   macro avg       0.91      0.92      0.91        53\n",
            "weighted avg       0.92      0.91      0.91        53\n",
            "\n"
          ],
          "name": "stdout"
        }
      ]
    }
  ]
}