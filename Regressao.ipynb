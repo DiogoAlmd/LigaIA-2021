{
  "nbformat": 4,
  "nbformat_minor": 0,
  "metadata": {
    "colab": {
      "name": "LIga Academica de IA - Regressao.ipynb",
      "provenance": []
    },
    "kernelspec": {
      "name": "python3",
      "display_name": "Python 3"
    },
    "language_info": {
      "name": "python"
    }
  },
  "cells": [
    {
      "cell_type": "code",
      "metadata": {
        "id": "id-fXTVbqW_d"
      },
      "source": [
        "import pandas as pd\n",
        "\n",
        "marketing = pd.read_csv('ad.data', index_col=None)"
      ],
      "execution_count": 5,
      "outputs": []
    },
    {
      "cell_type": "code",
      "metadata": {
        "colab": {
          "base_uri": "https://localhost:8080/",
          "height": 197
        },
        "id": "UqEcZVs4q67K",
        "outputId": "3fd618b9-091f-467d-c41e-42e2873d71db"
      },
      "source": [
        "marketing.head()"
      ],
      "execution_count": 6,
      "outputs": [
        {
          "output_type": "execute_result",
          "data": {
            "text/html": [
              "<div>\n",
              "<style scoped>\n",
              "    .dataframe tbody tr th:only-of-type {\n",
              "        vertical-align: middle;\n",
              "    }\n",
              "\n",
              "    .dataframe tbody tr th {\n",
              "        vertical-align: top;\n",
              "    }\n",
              "\n",
              "    .dataframe thead th {\n",
              "        text-align: right;\n",
              "    }\n",
              "</style>\n",
              "<table border=\"1\" class=\"dataframe\">\n",
              "  <thead>\n",
              "    <tr style=\"text-align: right;\">\n",
              "      <th></th>\n",
              "      <th>Unnamed: 0</th>\n",
              "      <th>TV</th>\n",
              "      <th>Radio</th>\n",
              "      <th>Newspaper</th>\n",
              "      <th>Sales</th>\n",
              "    </tr>\n",
              "  </thead>\n",
              "  <tbody>\n",
              "    <tr>\n",
              "      <th>0</th>\n",
              "      <td>1</td>\n",
              "      <td>230.1</td>\n",
              "      <td>37.8</td>\n",
              "      <td>69.2</td>\n",
              "      <td>22.1</td>\n",
              "    </tr>\n",
              "    <tr>\n",
              "      <th>1</th>\n",
              "      <td>2</td>\n",
              "      <td>44.5</td>\n",
              "      <td>39.3</td>\n",
              "      <td>45.1</td>\n",
              "      <td>10.4</td>\n",
              "    </tr>\n",
              "    <tr>\n",
              "      <th>2</th>\n",
              "      <td>3</td>\n",
              "      <td>17.2</td>\n",
              "      <td>45.9</td>\n",
              "      <td>69.3</td>\n",
              "      <td>9.3</td>\n",
              "    </tr>\n",
              "    <tr>\n",
              "      <th>3</th>\n",
              "      <td>4</td>\n",
              "      <td>151.5</td>\n",
              "      <td>41.3</td>\n",
              "      <td>58.5</td>\n",
              "      <td>18.5</td>\n",
              "    </tr>\n",
              "    <tr>\n",
              "      <th>4</th>\n",
              "      <td>5</td>\n",
              "      <td>180.8</td>\n",
              "      <td>10.8</td>\n",
              "      <td>58.4</td>\n",
              "      <td>12.9</td>\n",
              "    </tr>\n",
              "  </tbody>\n",
              "</table>\n",
              "</div>"
            ],
            "text/plain": [
              "   Unnamed: 0     TV  Radio  Newspaper  Sales\n",
              "0           1  230.1   37.8       69.2   22.1\n",
              "1           2   44.5   39.3       45.1   10.4\n",
              "2           3   17.2   45.9       69.3    9.3\n",
              "3           4  151.5   41.3       58.5   18.5\n",
              "4           5  180.8   10.8       58.4   12.9"
            ]
          },
          "metadata": {
            "tags": []
          },
          "execution_count": 6
        }
      ]
    },
    {
      "cell_type": "code",
      "metadata": {
        "id": "9qNgpfOPre76"
      },
      "source": [
        "from sklearn.model_selection import train_test_split\n",
        "\n",
        "X = marketing[['TV','Radio','Newspaper']]\n",
        "y = marketing['Sales']\n",
        "\n",
        "X_train, X_test, y_train, y_test = train_test_split(X, y, random_state=0)"
      ],
      "execution_count": 8,
      "outputs": []
    },
    {
      "cell_type": "code",
      "metadata": {
        "id": "x9HK_xRnruOJ"
      },
      "source": [
        "from sklearn.linear_model import LinearRegression\n",
        "\n",
        "model = LinearRegression()\n",
        "model.fit(X_train, y_train)\n",
        "\n",
        "y_pred = model.predict(X_test)"
      ],
      "execution_count": 12,
      "outputs": []
    },
    {
      "cell_type": "code",
      "metadata": {
        "colab": {
          "base_uri": "https://localhost:8080/"
        },
        "id": "fQXJGbiBr_IK",
        "outputId": "96a535e5-e67e-4320-8360-9be452f1059d"
      },
      "source": [
        "from sklearn.metrics import mean_absolute_error, mean_squared_error\n",
        "\n",
        "print('MAE:', mean_absolute_error(y_test, y_pred))\n",
        "print('RMSE:', mean_squared_error(y_test, y_pred) ** 0.5)"
      ],
      "execution_count": 13,
      "outputs": [
        {
          "output_type": "stream",
          "text": [
            "MAE: 1.3000320919235455\n",
            "RMSE: 2.0031219440955406\n"
          ],
          "name": "stdout"
        }
      ]
    },
    {
      "cell_type": "code",
      "metadata": {
        "colab": {
          "base_uri": "https://localhost:8080/"
        },
        "id": "UMxfOPrysiMa",
        "outputId": "2b5ac485-984f-424c-e453-c39852f7f8bd"
      },
      "source": [
        "import numpy as np\n",
        "\n",
        "sum(np.abs(y_test - y_pred)) / len(y_test)"
      ],
      "execution_count": 17,
      "outputs": [
        {
          "output_type": "execute_result",
          "data": {
            "text/plain": [
              "1.3000320919235449"
            ]
          },
          "metadata": {
            "tags": []
          },
          "execution_count": 17
        }
      ]
    },
    {
      "cell_type": "code",
      "metadata": {
        "colab": {
          "base_uri": "https://localhost:8080/"
        },
        "id": "E0vNnMIYtOtB",
        "outputId": "79fe826c-19de-4347-808a-bd6187ae53d8"
      },
      "source": [
        "(sum((y_test - y_pred) ** 2) / len(y_test) ) ** 0.5"
      ],
      "execution_count": 22,
      "outputs": [
        {
          "output_type": "execute_result",
          "data": {
            "text/plain": [
              "2.003121944095541"
            ]
          },
          "metadata": {
            "tags": []
          },
          "execution_count": 22
        }
      ]
    },
    {
      "cell_type": "code",
      "metadata": {
        "colab": {
          "base_uri": "https://localhost:8080/"
        },
        "id": "zJTFGbqLuNOS",
        "outputId": "dcb470f3-cad6-4bbb-fc0a-de68058ff86b"
      },
      "source": [
        "model.predict([[100,50,30]])"
      ],
      "execution_count": 28,
      "outputs": [
        {
          "output_type": "execute_result",
          "data": {
            "text/plain": [
              "array([17.29386908])"
            ]
          },
          "metadata": {
            "tags": []
          },
          "execution_count": 28
        }
      ]
    },
    {
      "cell_type": "code",
      "metadata": {
        "colab": {
          "base_uri": "https://localhost:8080/"
        },
        "id": "C7uF-6huuxIZ",
        "outputId": "bce31d09-5373-4346-8d14-40c8e75f2cb1"
      },
      "source": [
        "print(model.coef_)\n",
        "print(model.intercept_)"
      ],
      "execution_count": 27,
      "outputs": [
        {
          "output_type": "stream",
          "text": [
            "[0.04416235 0.19900368 0.00116268]\n",
            "2.8925700511511483\n"
          ],
          "name": "stdout"
        }
      ]
    },
    {
      "cell_type": "code",
      "metadata": {
        "colab": {
          "base_uri": "https://localhost:8080/"
        },
        "id": "KdOcPGLbu4ci",
        "outputId": "4f99b6fb-6a13-4bc3-849a-1725ee2f921f"
      },
      "source": [
        "2.89 + 0.044 * 100 + 0.19 * 50 + 0.001 * 30"
      ],
      "execution_count": 29,
      "outputs": [
        {
          "output_type": "execute_result",
          "data": {
            "text/plain": [
              "16.82"
            ]
          },
          "metadata": {
            "tags": []
          },
          "execution_count": 29
        }
      ]
    },
    {
      "cell_type": "markdown",
      "metadata": {
        "id": "b-L6vXD1waRZ"
      },
      "source": [
        "### Exercício"
      ]
    },
    {
      "cell_type": "code",
      "metadata": {
        "id": "h7FlKmhwv8-h"
      },
      "source": [
        "from sklearn.datasets import load_boston\n",
        "X, y = load_boston(return_X_y=True)"
      ],
      "execution_count": 30,
      "outputs": []
    },
    {
      "cell_type": "code",
      "metadata": {
        "id": "6MbQRjsXwUxx"
      },
      "source": [
        "X_train, X_test, y_train, y_test = train_test_split(X, y, random_state=0)"
      ],
      "execution_count": 33,
      "outputs": []
    },
    {
      "cell_type": "code",
      "metadata": {
        "colab": {
          "base_uri": "https://localhost:8080/"
        },
        "id": "kLgkNM3kwWEx",
        "outputId": "42bdc6d9-f981-4b07-9ba3-4b8a57559d7a"
      },
      "source": [
        "print(X_train.shape)\n",
        "print(X_test.shape)"
      ],
      "execution_count": 34,
      "outputs": [
        {
          "output_type": "stream",
          "text": [
            "(379, 13)\n",
            "(127, 13)\n"
          ],
          "name": "stdout"
        }
      ]
    },
    {
      "cell_type": "code",
      "metadata": {
        "colab": {
          "base_uri": "https://localhost:8080/"
        },
        "id": "PuoxeKQV1KJq",
        "outputId": "2334e964-89da-4fa1-fa7e-b2639517006c"
      },
      "source": [
        "model = LinearRegression()\n",
        "model.fit(X_train, y_train)\n",
        "\n",
        "y_pred = model.predict(X_test)\n",
        "\n",
        "print('MAE:', mean_absolute_error(y_test, y_pred))\n",
        "print('RMSE:', mean_squared_error(y_test, y_pred) ** 0.5)"
      ],
      "execution_count": 36,
      "outputs": [
        {
          "output_type": "stream",
          "text": [
            "MAE: 3.6683301481357256\n",
            "RMSE: 5.457311159564069\n"
          ],
          "name": "stdout"
        }
      ]
    },
    {
      "cell_type": "code",
      "metadata": {
        "colab": {
          "base_uri": "https://localhost:8080/"
        },
        "id": "xf6OPbPs1UKR",
        "outputId": "61c49fcf-a35a-429c-8fd2-513550cc0d7d"
      },
      "source": [
        "y_test.mean()"
      ],
      "execution_count": 37,
      "outputs": [
        {
          "output_type": "execute_result",
          "data": {
            "text/plain": [
              "22.30629921259843"
            ]
          },
          "metadata": {
            "tags": []
          },
          "execution_count": 37
        }
      ]
    },
    {
      "cell_type": "code",
      "metadata": {
        "colab": {
          "base_uri": "https://localhost:8080/"
        },
        "id": "Z_5v5jM-1b-Y",
        "outputId": "7dc09d14-ed04-47e6-b3c8-2a727550edb6"
      },
      "source": [
        "from sklearn.linear_model import Lasso\n",
        "\n",
        "for alpha in [0.001,0.01,0.1,1,10,100,1000]:\n",
        "\n",
        "    model = Lasso(alpha=alpha)\n",
        "    model.fit(X_train, y_train)\n",
        "\n",
        "    y_pred = model.predict(X_test)\n",
        "\n",
        "    print(\"Alpha:\", alpha)\n",
        "    print('MAE:', mean_absolute_error(y_test, y_pred))\n",
        "    print('RMSE:', mean_squared_error(y_test, y_pred) ** 0.5)\n",
        "    print()"
      ],
      "execution_count": 38,
      "outputs": [
        {
          "output_type": "stream",
          "text": [
            "Alpha: 0.001\n",
            "MAE: 3.6673319401722906\n",
            "RMSE: 5.459763510039256\n",
            "\n",
            "Alpha: 0.01\n",
            "MAE: 3.660700474168842\n",
            "RMSE: 5.485531856902301\n",
            "\n",
            "Alpha: 0.1\n",
            "MAE: 3.7400419081560554\n",
            "RMSE: 5.665080306304301\n",
            "\n",
            "Alpha: 1\n",
            "MAE: 4.029701245737441\n",
            "RMSE: 6.052422661571132\n",
            "\n",
            "Alpha: 10\n",
            "MAE: 4.6415036699854735\n",
            "RMSE: 7.006540959555798\n",
            "\n",
            "Alpha: 100\n",
            "MAE: 5.87884938271087\n",
            "RMSE: 8.485508927563993\n",
            "\n",
            "Alpha: 1000\n",
            "MAE: 6.262755282238796\n",
            "RMSE: 9.043808157126925\n",
            "\n"
          ],
          "name": "stdout"
        }
      ]
    },
    {
      "cell_type": "code",
      "metadata": {
        "colab": {
          "base_uri": "https://localhost:8080/"
        },
        "id": "V2sEHdpn2HEA",
        "outputId": "12134e28-bbf7-4989-e540-dab0c27f378d"
      },
      "source": [
        "from sklearn.svm import SVR\n",
        "\n",
        "for C in [1,10,100,1000,10000,100000]:\n",
        "\n",
        "    model = SVR(C=C)\n",
        "    model.fit(X_train, y_train)\n",
        "\n",
        "    y_pred = model.predict(X_test)\n",
        "\n",
        "    print(\"C:\", C)\n",
        "    print('MAE:', mean_absolute_error(y_test, y_pred))\n",
        "    print('RMSE:', mean_squared_error(y_test, y_pred) ** 0.5)\n",
        "    print()"
      ],
      "execution_count": 41,
      "outputs": [
        {
          "output_type": "stream",
          "text": [
            "C: 1\n",
            "MAE: 5.281960348873121\n",
            "RMSE: 8.652239526194208\n",
            "\n",
            "C: 10\n",
            "MAE: 5.083658756005503\n",
            "RMSE: 8.38810555173356\n",
            "\n",
            "C: 100\n",
            "MAE: 4.39967339465945\n",
            "RMSE: 7.428963120981332\n",
            "\n",
            "C: 1000\n",
            "MAE: 3.949303217008856\n",
            "RMSE: 6.4450198625189845\n",
            "\n",
            "C: 10000\n",
            "MAE: 3.572541850593689\n",
            "RMSE: 5.751519454039265\n",
            "\n",
            "C: 100000\n",
            "MAE: 2.935913131077839\n",
            "RMSE: 4.99233438886726\n",
            "\n"
          ],
          "name": "stdout"
        }
      ]
    }
  ]
}